{
  "nbformat": 4,
  "nbformat_minor": 0,
  "metadata": {
    "colab": {
      "name": "Tarea_4.ipynb",
      "provenance": []
    },
    "kernelspec": {
      "name": "python3",
      "display_name": "Python 3"
    },
    "language_info": {
      "name": "python"
    }
  },
  "cells": [
    {
      "cell_type": "code",
      "metadata": {
        "colab": {
          "base_uri": "https://localhost:8080/"
        },
        "id": "iu4WnSr63_EK",
        "outputId": "67b60e3e-2878-463d-ffdf-1cc21bdd57d6"
      },
      "source": [
        "import math\n",
        "print(\"Programa que usa la formula general\\n\")\n",
        "coeficiente_a = int (input(\"Dame el valor de a: \"))\n",
        "coeficiente_b = int (input(\"Dame el valor de b: \"))\n",
        "coeficiente_c = int (input(\"Dame el valor de c: \"))\n",
        "\n",
        "d = pow(coeficiente_b,2)-(4*(coeficiente_a)*(coeficiente_c))\n",
        "#Verificando los datos asignados\n",
        "print(\"\\nLa raiz cuadrada hasta este punto es: \", d)\n",
        "\n",
        "if d > 0:\n",
        "  x = (-coeficiente_b + math.sqrt(d))/(2*coeficiente_a)\n",
        "  y = (-coeficiente_b - math.sqrt(d))/(2*coeficiente_a)\n",
        "  print(\"\\n x1 = \",x)\n",
        "  print(\"\\n x2 = \",y)\n",
        "else:\n",
        "  print(\"La ecuacion no tiene solucion en los numeros reales.\")\n",
        "  real = (coeficiente_a*2)\n",
        "  real = (coeficiente_b/real)\n",
        "  d = (d *(-1))\n",
        "  raiz=(math.sqrt(d))\n",
        "  imagen=(raiz/(2*coeficiente_a))\n",
        "  print(\"\\nLas factores son imaginarios y son:\\n\\n\")\n",
        "  print(\"x1 = \", real, \" + \", imagen, \"i como imaginario.\")\n",
        "  print(\"\\nx2 = \", real, \" - \", imagen, \"i como imaginario \")"
      ],
      "execution_count": 8,
      "outputs": [
        {
          "output_type": "stream",
          "name": "stdout",
          "text": [
            "Programa que usa la formula general\n",
            "\n",
            "Dame el valor de a: 3\n",
            "Dame el valor de b: 2\n",
            "Dame el valor de c: 1\n",
            "\n",
            "La raiz cuadrada hasta este punto es:  -8\n",
            "La ecuacion no tiene solucion en los numeros reales.\n",
            "\n",
            "Las factores son imaginarios y son:\n",
            "\n",
            "\n",
            "x1 =  0.3333333333333333  +  0.47140452079103173 i como imaginario.\n",
            "\n",
            "x2 =  0.3333333333333333  -  0.47140452079103173 i como imaginario \n"
          ]
        }
      ]
    }
  ]
}