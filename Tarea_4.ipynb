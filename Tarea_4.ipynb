{
  "nbformat": 4,
  "nbformat_minor": 0,
  "metadata": {
    "colab": {
      "name": "Tarea_4.ipynb",
      "provenance": []
    },
    "kernelspec": {
      "name": "python3",
      "display_name": "Python 3"
    },
    "language_info": {
      "name": "python"
    }
  },
  "cells": [
    {
      "cell_type": "code",
      "metadata": {
        "colab": {
          "base_uri": "https://localhost:8080/"
        },
        "id": "iu4WnSr63_EK",
        "outputId": "c5da7d22-10e2-4329-a8d7-9b8fdc6d2011"
      },
      "source": [
        "import math\n",
        "print(\"Programa que usa la formula general\\n\")\n",
        "coeficiente_a = int (input(\"Dame el valor de a: \"))\n",
        "coeficiente_b = int (input(\"Dame el valor de b: \"))\n",
        "coeficiente_c = int (input(\"Dame el valor de c: \"))\n",
        "d = pow(coeficiente_b,2)-(4*(coeficiente_a)*(coeficiente_c))\n",
        "print(\"\\nLa raiz cuadrada hasta este punto es: \", d) #Verificando los datos asignados\n",
        "if d > 0:\n",
        "  x = (-coeficiente_b + math.sqrt(d))/(2*coeficiente_a)\n",
        "  y = (-coeficiente_b - math.sqrt(d))/(2*coeficiente_a)\n",
        "  print(\"\\n x1 = \",x)\n",
        "  print(\"\\n x2 = \",y)\n",
        "else:\n",
        "  print(\"La ecuacion no tiene solucion dentro de los numeros reales.\")\n",
        "  real = (coeficiente_a*2)\n",
        "  real = (coeficiente_b/real)\n",
        "  d = (d *(-1))\n",
        "  raiz=(math.sqrt(d))\n",
        "  imagen=(raiz/(2*coeficiente_a))\n",
        "  print(\"\\nLas factores son imaginarios y son:\\n\\n\")\n",
        "  print(\"x1 = \", real, \" + \", imagen, \"i como imaginario.\")\n",
        "  print(\"\\nx2 = \", real, \" - \", imagen, \"i como imaginario \")"
      ],
      "execution_count": 7,
      "outputs": [
        {
          "output_type": "stream",
          "name": "stdout",
          "text": [
            "Programa que usa la formula general\n",
            "\n",
            "Dame el valor de a: 10\n",
            "Dame el valor de b: 8\n",
            "Dame el valor de c: 2\n",
            "\n",
            "La raiz cuadrada hasta este punto es:  -16\n",
            "La ecuacion no tiene solucion dentro de los numeros reales.\n",
            "\n",
            "Las factores son imaginarios y son:\n",
            "\n",
            "\n",
            "x1 =  0.4  +  0.2 i como imaginario.\n",
            "\n",
            "x2 =  0.4  -  0.2 i como imaginario \n"
          ]
        }
      ]
    }
  ]
}